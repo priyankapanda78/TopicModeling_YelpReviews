{
 "cells": [
  {
   "cell_type": "code",
   "execution_count": 1,
   "metadata": {},
   "outputs": [],
   "source": [
    "import numpy as np\n",
    "import pandas as pd\n",
    "from nltk.tokenize import RegexpTokenizer\n",
    "from stop_words import get_stop_words\n",
    "from nltk.stem.porter import PorterStemmer\n",
    "from gensim import corpora, models\n",
    "import gensim\n",
    "from sklearn.feature_extraction.text import CountVectorizer\n",
    "from nltk import word_tokenize          \n",
    "from nltk.stem import WordNetLemmatizer\n",
    "from nltk.stem.porter import PorterStemmer\n",
    "from gensim import corpora, models, similarities, matutils\n",
    "from sklearn.decomposition import NMF, LatentDirichletAllocation\n",
    "from sklearn.feature_extraction import text \n",
    "from sklearn.feature_extraction.text import TfidfVectorizer\n",
    "import seaborn as sns\n",
    "import matplotlib.pyplot as plt\n",
    "%matplotlib inline"
   ]
  },
  {
   "cell_type": "code",
   "execution_count": 2,
   "metadata": {},
   "outputs": [
    {
     "name": "stderr",
     "output_type": "stream",
     "text": [
      "/Users/priyanka/anaconda3/lib/python3.6/site-packages/IPython/core/interactiveshell.py:2728: DtypeWarning: Columns (0,9) have mixed types. Specify dtype option on import or set low_memory=False.\n",
      "  interactivity=interactivity, compiler=compiler, result=result)\n"
     ]
    }
   ],
   "source": [
    "nv = pd.read_csv(\"/Users/priyanka/github/sf18_ds12_v2/projects/04-fletcher/Nevada.csv\",sep=\"\\t\")\n",
    "nv = nv.drop('Unnamed: 0',axis=1)\n"
   ]
  },
  {
   "cell_type": "code",
   "execution_count": 3,
   "metadata": {},
   "outputs": [],
   "source": [
    "nv1 = nv.copy()\n",
    "nv1 = nv1.drop(nv1[(nv1.stars_y == 3) | (nv1.stars_y==3.5)].index)"
   ]
  },
  {
   "cell_type": "code",
   "execution_count": 4,
   "metadata": {},
   "outputs": [
    {
     "data": {
      "text/plain": [
       "(766887, 13)"
      ]
     },
     "execution_count": 4,
     "metadata": {},
     "output_type": "execute_result"
    }
   ],
   "source": [
    "nv1.shape"
   ]
  },
  {
   "cell_type": "code",
   "execution_count": 5,
   "metadata": {},
   "outputs": [],
   "source": [
    "nv1['stars'] = np.where(nv1['stars_y'] > 2, 1, 0)\n",
    "nv1_neg = nv1[nv1.stars == 0]\n",
    "nv1_neg=nv1_neg.reset_index().drop('index',axis=1)\n",
    "nv1_neg = nv1_neg.dropna(axis=0)\n",
    "\n"
   ]
  },
  {
   "cell_type": "code",
   "execution_count": 6,
   "metadata": {},
   "outputs": [
    {
     "data": {
      "text/plain": [
       "(16681, 14)"
      ]
     },
     "execution_count": 6,
     "metadata": {},
     "output_type": "execute_result"
    }
   ],
   "source": [
    "nv1_neg.shape"
   ]
  },
  {
   "cell_type": "code",
   "execution_count": 7,
   "metadata": {},
   "outputs": [
    {
     "data": {
      "text/html": [
       "<div>\n",
       "<style scoped>\n",
       "    .dataframe tbody tr th:only-of-type {\n",
       "        vertical-align: middle;\n",
       "    }\n",
       "\n",
       "    .dataframe tbody tr th {\n",
       "        vertical-align: top;\n",
       "    }\n",
       "\n",
       "    .dataframe thead th {\n",
       "        text-align: right;\n",
       "    }\n",
       "</style>\n",
       "<table border=\"1\" class=\"dataframe\">\n",
       "  <thead>\n",
       "    <tr style=\"text-align: right;\">\n",
       "      <th></th>\n",
       "      <th>review_id</th>\n",
       "      <th>user_id</th>\n",
       "      <th>business_id</th>\n",
       "      <th>text</th>\n",
       "      <th>name</th>\n",
       "      <th>neighborhood</th>\n",
       "      <th>city</th>\n",
       "      <th>state</th>\n",
       "      <th>latitude</th>\n",
       "      <th>longitude</th>\n",
       "      <th>stars_y</th>\n",
       "      <th>review_count</th>\n",
       "      <th>categories</th>\n",
       "      <th>stars</th>\n",
       "    </tr>\n",
       "  </thead>\n",
       "  <tbody>\n",
       "    <tr>\n",
       "      <th>1</th>\n",
       "      <td>5yPsKqRQ7BmtqAvCUkKQAQ</td>\n",
       "      <td>qr9hmaIxq1z9ycgT28PpRw</td>\n",
       "      <td>Nsi49BE_XsjJ0oOXwhH8hA</td>\n",
       "      <td>This place is terrible!  One star is generous ...</td>\n",
       "      <td>China Star Buffet</td>\n",
       "      <td>Eastside</td>\n",
       "      <td>Las Vegas</td>\n",
       "      <td>NV</td>\n",
       "      <td>36.1422</td>\n",
       "      <td>-115.136410</td>\n",
       "      <td>2.0</td>\n",
       "      <td>60.0</td>\n",
       "      <td>Restaurants, Chinese</td>\n",
       "      <td>0</td>\n",
       "    </tr>\n",
       "    <tr>\n",
       "      <th>3</th>\n",
       "      <td>_YKZDcsZ34XzabQJXmIm-Q</td>\n",
       "      <td>bsH9WdGVrFOjMlpDBNkWIA</td>\n",
       "      <td>DVfCbJhJUDWRlUfrKzaKOA</td>\n",
       "      <td>I am from LA where there are many Sam Woos and...</td>\n",
       "      <td>Sam Woo BBQ Restaurant</td>\n",
       "      <td>Chinatown</td>\n",
       "      <td>Las Vegas</td>\n",
       "      <td>NV</td>\n",
       "      <td>36.1254</td>\n",
       "      <td>-115.195980</td>\n",
       "      <td>2.0</td>\n",
       "      <td>532.0</td>\n",
       "      <td>Noodles, Chinese, Restaurants, Barbeque</td>\n",
       "      <td>0</td>\n",
       "    </tr>\n",
       "    <tr>\n",
       "      <th>4</th>\n",
       "      <td>YYHJRLJ-DWgOSF25y-9gbw</td>\n",
       "      <td>3mZFkwfa6XV0BBazRTva9w</td>\n",
       "      <td>IOwTrStIy6NinyquhBrLZQ</td>\n",
       "      <td>Overwhelming usage of ginger on practically ev...</td>\n",
       "      <td>Pick Up Stix</td>\n",
       "      <td>The Strip</td>\n",
       "      <td>Las Vegas</td>\n",
       "      <td>NV</td>\n",
       "      <td>36.0989</td>\n",
       "      <td>-115.175557</td>\n",
       "      <td>1.5</td>\n",
       "      <td>57.0</td>\n",
       "      <td>Restaurants, Ethnic Food, Food, Imported Food,...</td>\n",
       "      <td>0</td>\n",
       "    </tr>\n",
       "    <tr>\n",
       "      <th>5</th>\n",
       "      <td>5Qu2S5FWyXz1pp1s55AbZg</td>\n",
       "      <td>hvZ5o9YNJJ-TVCcdT42VoQ</td>\n",
       "      <td>CHW_DPKnTqudyRaDa4vwkg</td>\n",
       "      <td>This McDonalds needs help...\\n\\nI used to trav...</td>\n",
       "      <td>McDonald's</td>\n",
       "      <td>Summerlin</td>\n",
       "      <td>Las Vegas</td>\n",
       "      <td>NV</td>\n",
       "      <td>36.1594</td>\n",
       "      <td>-115.320341</td>\n",
       "      <td>2.0</td>\n",
       "      <td>80.0</td>\n",
       "      <td>Coffee &amp; Tea, Restaurants, Food, Burgers, Fast...</td>\n",
       "      <td>0</td>\n",
       "    </tr>\n",
       "    <tr>\n",
       "      <th>6</th>\n",
       "      <td>eC0RSWZudPhMiswsLYckHA</td>\n",
       "      <td>C7IrOaBaxd7tYyFnb4b-lw</td>\n",
       "      <td>DVfCbJhJUDWRlUfrKzaKOA</td>\n",
       "      <td>Good food but not everything was cooked right....</td>\n",
       "      <td>Sam Woo BBQ Restaurant</td>\n",
       "      <td>Chinatown</td>\n",
       "      <td>Las Vegas</td>\n",
       "      <td>NV</td>\n",
       "      <td>36.1254</td>\n",
       "      <td>-115.195980</td>\n",
       "      <td>2.0</td>\n",
       "      <td>532.0</td>\n",
       "      <td>Noodles, Chinese, Restaurants, Barbeque</td>\n",
       "      <td>0</td>\n",
       "    </tr>\n",
       "  </tbody>\n",
       "</table>\n",
       "</div>"
      ],
      "text/plain": [
       "                review_id                 user_id             business_id  \\\n",
       "1  5yPsKqRQ7BmtqAvCUkKQAQ  qr9hmaIxq1z9ycgT28PpRw  Nsi49BE_XsjJ0oOXwhH8hA   \n",
       "3  _YKZDcsZ34XzabQJXmIm-Q  bsH9WdGVrFOjMlpDBNkWIA  DVfCbJhJUDWRlUfrKzaKOA   \n",
       "4  YYHJRLJ-DWgOSF25y-9gbw  3mZFkwfa6XV0BBazRTva9w  IOwTrStIy6NinyquhBrLZQ   \n",
       "5  5Qu2S5FWyXz1pp1s55AbZg  hvZ5o9YNJJ-TVCcdT42VoQ  CHW_DPKnTqudyRaDa4vwkg   \n",
       "6  eC0RSWZudPhMiswsLYckHA  C7IrOaBaxd7tYyFnb4b-lw  DVfCbJhJUDWRlUfrKzaKOA   \n",
       "\n",
       "                                                text                    name  \\\n",
       "1  This place is terrible!  One star is generous ...       China Star Buffet   \n",
       "3  I am from LA where there are many Sam Woos and...  Sam Woo BBQ Restaurant   \n",
       "4  Overwhelming usage of ginger on practically ev...            Pick Up Stix   \n",
       "5  This McDonalds needs help...\\n\\nI used to trav...              McDonald's   \n",
       "6  Good food but not everything was cooked right....  Sam Woo BBQ Restaurant   \n",
       "\n",
       "  neighborhood       city state latitude   longitude  stars_y  review_count  \\\n",
       "1     Eastside  Las Vegas    NV  36.1422 -115.136410      2.0          60.0   \n",
       "3    Chinatown  Las Vegas    NV  36.1254 -115.195980      2.0         532.0   \n",
       "4    The Strip  Las Vegas    NV  36.0989 -115.175557      1.5          57.0   \n",
       "5    Summerlin  Las Vegas    NV  36.1594 -115.320341      2.0          80.0   \n",
       "6    Chinatown  Las Vegas    NV  36.1254 -115.195980      2.0         532.0   \n",
       "\n",
       "                                          categories  stars  \n",
       "1                               Restaurants, Chinese      0  \n",
       "3            Noodles, Chinese, Restaurants, Barbeque      0  \n",
       "4  Restaurants, Ethnic Food, Food, Imported Food,...      0  \n",
       "5  Coffee & Tea, Restaurants, Food, Burgers, Fast...      0  \n",
       "6            Noodles, Chinese, Restaurants, Barbeque      0  "
      ]
     },
     "execution_count": 7,
     "metadata": {},
     "output_type": "execute_result"
    }
   ],
   "source": [
    "nv1_neg.head()"
   ]
  },
  {
   "cell_type": "code",
   "execution_count": 8,
   "metadata": {},
   "outputs": [
    {
     "data": {
      "text/plain": [
       "Text(0.5,1,'Total count per Ratings')"
      ]
     },
     "execution_count": 8,
     "metadata": {},
     "output_type": "execute_result"
    },
    {
     "data": {
      "image/png": "[encoded data removed]",
      "text/plain": [
       "<Figure size 432x288 with 1 Axes>"
      ]
     },
     "metadata": {},
     "output_type": "display_data"
    }
   ],
   "source": [
    "nv['stars_y'] = round(nv.stars_y)\n",
    "sns.countplot(nv['stars_y'],color='royalblue')\n",
    "plt.xlabel('stars')\n",
    "plt.title('Total count per Ratings')"
   ]
  },
  {
   "cell_type": "code",
   "execution_count": 9,
   "metadata": {},
   "outputs": [],
   "source": [
    "neg_text = nv1_neg['text']\n"
   ]
  },
  {
   "cell_type": "code",
   "execution_count": 10,
   "metadata": {},
   "outputs": [],
   "source": [
    "stops = ['the','a','an','and','but','if','or','because','as','what','which','this','that','these','those','then',\n",
    "              'just','so','than','such','both','through','about','for','is','of','while','during','to','What','Which',\n",
    "              'Is','If','While','This','yelp','http','www','com']\n",
    "stop_words = text.ENGLISH_STOP_WORDS.union(stops)"
   ]
  },
  {
   "cell_type": "code",
   "execution_count": 11,
   "metadata": {},
   "outputs": [],
   "source": [
    "stemmer = PorterStemmer()\n",
    "corpus_neg=[' '.join([stemmer.stem(w) for w in t.split(' ')]) for t in neg_text]"
   ]
  },
  {
   "cell_type": "code",
   "execution_count": 12,
   "metadata": {},
   "outputs": [
    {
     "name": "stdout",
     "output_type": "stream",
     "text": [
      "overwhelm usag of ginger on practic everything...fri rice, noodles, orang chicken and mildli on the hous special ginger chicken.  bourbon chicken and green bean were good.\n"
     ]
    }
   ],
   "source": [
    "print(corpus_neg[2])"
   ]
  },
  {
   "cell_type": "markdown",
   "metadata": {},
   "source": [
    "### CountVectorizer with LDA Multicore on Negative reviews"
   ]
  },
  {
   "cell_type": "code",
   "execution_count": 13,
   "metadata": {},
   "outputs": [],
   "source": [
    "cv_neg = CountVectorizer(stop_words=stop_words, min_df=10, max_df=0.5, \n",
    "                        ngram_range=(2,2), token_pattern='[a-z][a-z]+')\n",
    "cv_neg_model = cv_neg.fit_transform(neg_text).transpose()"
   ]
  },
  {
   "cell_type": "code",
   "execution_count": 14,
   "metadata": {},
   "outputs": [],
   "source": [
    "neg_corpus = matutils.Sparse2Corpus(cv_neg_model)\n",
    "neg_id_dict = dict((v, k) for k, v in cv_neg.vocabulary_.items())"
   ]
  },
  {
   "cell_type": "code",
   "execution_count": 15,
   "metadata": {},
   "outputs": [],
   "source": [
    "lda_model_neg = gensim.models.LdaMulticore(neg_corpus, num_topics=10, id2word=neg_id_dict, passes=2, workers=2)"
   ]
  },
  {
   "cell_type": "code",
   "execution_count": 16,
   "metadata": {
    "scrolled": true
   },
   "outputs": [
    {
     "name": "stdout",
     "output_type": "stream",
     "text": [
      "Topic: 0 Word: 0.011*\"sam woo\" + 0.009*\"customer service\" + 0.007*\"tropical smoothie\" + 0.005*\"credit card\" + 0.005*\"multiple times\" + 0.004*\"las vegas\" + 0.004*\"papa john\" + 0.004*\"close home\" + 0.004*\"bbq pork\" + 0.004*\"didn want\"\n",
      "Topic: 1 Word: 0.010*\"don know\" + 0.004*\"customer service\" + 0.004*\"took minutes\" + 0.004*\"minutes later\" + 0.004*\"got food\" + 0.004*\"read reviews\" + 0.003*\"hot sauce\" + 0.003*\"tasted like\" + 0.003*\"burger king\" + 0.003*\"got home\"\n",
      "Topic: 2 Word: 0.023*\"ice cream\" + 0.013*\"customer service\" + 0.011*\"hot ready\" + 0.006*\"dairy queen\" + 0.006*\"fast food\" + 0.005*\"cheese pizza\" + 0.005*\"bbq sauce\" + 0.005*\"las vegas\" + 0.004*\"little caesars\" + 0.004*\"fried rice\"\n",
      "Topic: 3 Word: 0.013*\"customer service\" + 0.007*\"burger king\" + 0.006*\"don know\" + 0.005*\"fast food\" + 0.005*\"las vegas\" + 0.005*\"panda express\" + 0.004*\"chicken sandwich\" + 0.004*\"feel like\" + 0.004*\"horrible horrible\" + 0.004*\"wait minutes\"\n",
      "Topic: 4 Word: 0.015*\"fast food\" + 0.012*\"tasted like\" + 0.007*\"mexican food\" + 0.006*\"food place\" + 0.005*\"burger king\" + 0.005*\"pretty good\" + 0.005*\"food good\" + 0.005*\"customer service\" + 0.005*\"bbq pork\" + 0.004*\"chips salsa\"\n",
      "Topic: 5 Word: 0.011*\"fast food\" + 0.010*\"las vegas\" + 0.005*\"late night\" + 0.004*\"food ok\" + 0.004*\"chinese food\" + 0.004*\"french fries\" + 0.003*\"taco bell\" + 0.003*\"grilled chicken\" + 0.003*\"burger king\" + 0.003*\"slow service\"\n",
      "Topic: 6 Word: 0.030*\"customer service\" + 0.012*\"pizza hut\" + 0.006*\"ordered pizza\" + 0.006*\"fast food\" + 0.004*\"el pollo\" + 0.004*\"second time\" + 0.004*\"pollo loco\" + 0.004*\"service horrible\" + 0.004*\"poor customer\" + 0.004*\"ordered food\"\n",
      "Topic: 7 Word: 0.027*\"customer service\" + 0.009*\"tropical smoothie\" + 0.005*\"food good\" + 0.004*\"wait minutes\" + 0.004*\"waste time\" + 0.004*\"worst customer\" + 0.004*\"recommend place\" + 0.003*\"fast food\" + 0.003*\"start saying\" + 0.003*\"ordered burgers\"\n",
      "Topic: 8 Word: 0.009*\"fast food\" + 0.006*\"pretty good\" + 0.005*\"food good\" + 0.005*\"blah blah\" + 0.005*\"carl jr\" + 0.005*\"las vegas\" + 0.005*\"fried chicken\" + 0.004*\"good food\" + 0.004*\"taste good\" + 0.004*\"mashed potatoes\"\n",
      "Topic: 9 Word: 0.007*\"waited minutes\" + 0.006*\"customer service\" + 0.005*\"make sure\" + 0.004*\"pad thai\" + 0.004*\"chinese food\" + 0.004*\"las vegas\" + 0.004*\"mandalay bay\" + 0.003*\"minutes later\" + 0.003*\"blue cheese\" + 0.003*\"dr pepper\"\n"
     ]
    }
   ],
   "source": [
    "for idx, topic in lda_model_neg.print_topics(-1):\n",
    "    print('Topic: {} Word: {}'.format(idx, topic))"
   ]
  },
  {
   "cell_type": "markdown",
   "metadata": {},
   "source": [
    "### Applying NMF Algorithm with TFIDF on Negative Text reviews"
   ]
  },
  {
   "cell_type": "code",
   "execution_count": 17,
   "metadata": {},
   "outputs": [],
   "source": [
    "num_features = 1000\n",
    "tfidf_vect = TfidfVectorizer(max_df=0.95, min_df=2, max_features=num_features, stop_words=stop_words)\n",
    "tfidf = tfidf_vect.fit_transform(neg_text)\n",
    "tfidf_feature_names = tfidf_vect.get_feature_names()"
   ]
  },
  {
   "cell_type": "code",
   "execution_count": 18,
   "metadata": {},
   "outputs": [],
   "source": [
    "nmf_neg = NMF(n_components=20, random_state=1, alpha=.1, l1_ratio=.5, init='nndsvd').fit(tfidf)"
   ]
  },
  {
   "cell_type": "code",
   "execution_count": 19,
   "metadata": {},
   "outputs": [],
   "source": [
    "def display_topics(model, feature_names, no_top_words):\n",
    "    for topic_idx, topic in enumerate(model.components_):\n",
    "        print(\"{:11}\".format(\"Topic %d:\" %(topic_idx)), end='')\n",
    "        print (\" \".join([feature_names[i]\n",
    "                        for i in topic.argsort()[:-no_top_words - 1:-1]]))"
   ]
  },
  {
   "cell_type": "code",
   "execution_count": 20,
   "metadata": {},
   "outputs": [
    {
     "name": "stdout",
     "output_type": "stream",
     "text": [
      "Topic 0:   said asked manager told didn got went called ordered did\n",
      "Topic 1:   pizza hut delivery crust cheese ordered pizzas pepperoni ready wings\n",
      "Topic 2:   food fast cold quality fresh eat better restaurant mexican overpriced\n",
      "Topic 3:   chicken kfc fried spicy ordered salad wings sauce popeyes piece\n",
      "Topic 4:   drive window inside cars car went fast line got mcdonald\n",
      "Topic 5:   minutes wait 20 15 waiting 10 waited ready 30 line\n",
      "Topic 6:   service customer horrible terrible rude slow bad poor employees customers\n",
      "Topic 7:   like don people really know bad want make come think\n",
      "Topic 8:   place dirty recommend avoid stars sushi sucks disgusting bar open\n",
      "Topic 9:   order wrong right correct delivery placed online orders called messed\n",
      "Topic 10:  buffet circus vegas buffets price selection breakfast better eat lunch\n",
      "Topic 11:  smoothie tropical smoothies wrap love working juice making make cafe\n",
      "Topic 12:  good pretty really nice service price thing wasn quick little\n",
      "Topic 13:  chinese rice soup pork restaurant noodle bbq noodles fried beef\n",
      "Topic 14:  airport breakfast burrito salsa chips flight vegas cheese tacos menu\n",
      "Topic 15:  great friendly staff nice amazing love fresh best service awesome\n",
      "Topic 16:  time long come wait second waste times single coming ve\n",
      "Topic 17:  fries burger cheese king sandwich burgers cold ordered french bacon\n",
      "Topic 18:  location employees love times new staff needs locations management come\n",
      "Topic 19:  worst ve mcdonald times far life experience seen eaten vegas\n"
     ]
    }
   ],
   "source": [
    "display_topics(nmf_neg, tfidf_feature_names, 10)\n",
    "\n"
   ]
  },
  {
   "cell_type": "code",
   "execution_count": 21,
   "metadata": {},
   "outputs": [],
   "source": [
    "pos = nv1[nv1.stars == 1]\n",
    "pos=pos.reset_index().drop('index',axis=1)\n",
    "pos_text = pos.dropna(axis=0)\n",
    "pos_text = pos_text['text']"
   ]
  },
  {
   "cell_type": "code",
   "execution_count": 22,
   "metadata": {},
   "outputs": [
    {
     "data": {
      "text/plain": [
       "(627360,)"
      ]
     },
     "execution_count": 22,
     "metadata": {},
     "output_type": "execute_result"
    }
   ],
   "source": [
    "pos_text.shape"
   ]
  },
  {
   "cell_type": "markdown",
   "metadata": {},
   "source": [
    "### Applying TFIDF with NMF on Positive text reviews"
   ]
  },
  {
   "cell_type": "code",
   "execution_count": 23,
   "metadata": {},
   "outputs": [],
   "source": [
    "tfidf_vectorizer = TfidfVectorizer(max_df=0.95, min_df=2, max_features=num_features, stop_words=stop_words)\n",
    "tfidf_pos = tfidf_vectorizer.fit_transform(pos_text)\n",
    "tfidf_feature_names_pos = tfidf_vectorizer.get_feature_names()\n",
    "\n"
   ]
  },
  {
   "cell_type": "code",
   "execution_count": 24,
   "metadata": {},
   "outputs": [],
   "source": [
    "nmf_pos = NMF(n_components=20, random_state=1, alpha=.1, l1_ratio=.5, init='nndsvd').fit(tfidf_pos)"
   ]
  },
  {
   "cell_type": "code",
   "execution_count": 25,
   "metadata": {},
   "outputs": [
    {
     "name": "stdout",
     "output_type": "stream",
     "text": [
      "Topic 0:   like order got didn don minutes came table said people\n",
      "Topic 1:   great service atmosphere awesome drinks happy bar selection prices spot\n",
      "Topic 2:   pizza crust slice cheese toppings pizzas sauce slices secret garlic\n",
      "Topic 3:   place recommend try awesome eat definitely like highly looking nice\n",
      "Topic 4:   burger fries burgers shake cheese truffle onion bun bacon rings\n",
      "Topic 5:   good really pretty nice price little prices overall like bit\n",
      "Topic 6:   chicken fried rice waffles sauce sandwich salad ordered wings waffle\n",
      "Topic 7:   sushi rolls roll fish fresh ayce eat sashimi tuna quality\n",
      "Topic 8:   vegas las strip restaurant favorite visit trip restaurants buffet stop\n",
      "Topic 9:   steak ordered salad delicious dinner bread meal cheese sauce dessert\n",
      "Topic 10:  amazing definitely recommend absolutely highly experience server thank loved wow\n",
      "Topic 11:  breakfast coffee eggs pancakes sandwich toast bacon hash egg french\n",
      "Topic 12:  friendly staff super nice delicious clean helpful attentive fresh atmosphere\n",
      "Topic 13:  love favorite absolutely location coming fresh coffee delicious come times\n",
      "Topic 14:  tacos taco asada mexican carne salsa fish chips burrito meat\n",
      "Topic 15:  time come wait definitely long try second worth visit times\n",
      "Topic 16:  ramen pork broth noodles bowl spicy soup pho miso rice\n",
      "Topic 17:  best ve town far hands eaten times tried life probably\n",
      "Topic 18:  thai curry pad rice tea spicy soup dishes fried noodles\n",
      "Topic 19:  food service excellent customer restaurant quality fast delicious recommend price\n"
     ]
    }
   ],
   "source": [
    "display_topics(nmf_pos, tfidf_feature_names_pos, 10)"
   ]
  },
  {
   "cell_type": "markdown",
   "metadata": {},
   "source": [
    "### Applying CountVectorizer(bigrams) with LDA on Positive text reviews"
   ]
  },
  {
   "cell_type": "code",
   "execution_count": 26,
   "metadata": {},
   "outputs": [],
   "source": [
    "cv_pos = CountVectorizer(stop_words=stop_words, min_df=10, max_df=0.5, \n",
    "                        ngram_range=(2,2), token_pattern='[a-z][a-z]+')\n",
    "cv_pos_model = cv_pos.fit_transform(pos_text).transpose()"
   ]
  },
  {
   "cell_type": "code",
   "execution_count": 27,
   "metadata": {},
   "outputs": [],
   "source": [
    "pos_corpus = matutils.Sparse2Corpus(cv_pos_model)\n",
    "pos_id_dict = dict((v, k) for k, v in cv_pos.vocabulary_.items())"
   ]
  },
  {
   "cell_type": "code",
   "execution_count": 28,
   "metadata": {},
   "outputs": [],
   "source": [
    "lda_model_pos = gensim.models.LdaMulticore(pos_corpus, num_topics=10, id2word=pos_id_dict, passes=2, workers=2)"
   ]
  },
  {
   "cell_type": "code",
   "execution_count": 29,
   "metadata": {},
   "outputs": [
    {
     "name": "stdout",
     "output_type": "stream",
     "text": [
      "Topic: 0 Word: 0.004*\"fried rice\" + 0.003*\"sweet potato\" + 0.003*\"thai food\" + 0.003*\"pad thai\" + 0.003*\"onion rings\" + 0.002*\"potato fries\" + 0.002*\"truffle fries\" + 0.001*\"french fries\" + 0.001*\"fried egg\" + 0.001*\"chicken wings\"\n",
      "Topic: 1 Word: 0.003*\"crab legs\" + 0.002*\"red velvet\" + 0.002*\"corned beef\" + 0.002*\"wait time\" + 0.002*\"worth wait\" + 0.002*\"long wait\" + 0.002*\"eggs benedict\" + 0.002*\"pretty good\" + 0.002*\"french toast\" + 0.002*\"wait long\"\n",
      "Topic: 2 Word: 0.005*\"really good\" + 0.003*\"highly recommend\" + 0.003*\"staff friendly\" + 0.002*\"super friendly\" + 0.002*\"mexican food\" + 0.002*\"definitely come\" + 0.002*\"recommend place\" + 0.002*\"service great\" + 0.002*\"definitely recommend\" + 0.002*\"best ve\"\n",
      "Topic: 3 Word: 0.011*\"happy hour\" + 0.006*\"pretty good\" + 0.004*\"really good\" + 0.004*\"carne asada\" + 0.003*\"fast food\" + 0.002*\"late night\" + 0.002*\"fish chips\" + 0.002*\"shake shack\" + 0.002*\"hot dog\" + 0.002*\"al pastor\"\n",
      "Topic: 4 Word: 0.005*\"mac cheese\" + 0.004*\"ice cream\" + 0.003*\"foie gras\" + 0.003*\"medium rare\" + 0.003*\"dining experience\" + 0.003*\"mashed potatoes\" + 0.002*\"filet mignon\" + 0.002*\"cooked perfectly\" + 0.002*\"rib eye\" + 0.002*\"perfectly cooked\"\n",
      "Topic: 5 Word: 0.003*\"customer service\" + 0.003*\"food good\" + 0.002*\"right away\" + 0.002*\"don know\" + 0.002*\"didn want\" + 0.002*\"tasted like\" + 0.002*\"food came\" + 0.002*\"looked like\" + 0.002*\"waited minutes\" + 0.002*\"took minutes\"\n",
      "Topic: 6 Word: 0.004*\"pork belly\" + 0.003*\"ice cream\" + 0.002*\"green tea\" + 0.002*\"spicy tuna\" + 0.002*\"fried rice\" + 0.002*\"miso soup\" + 0.002*\"las vegas\" + 0.001*\"deep fried\" + 0.001*\"yum yum\" + 0.001*\"sushi bar\"\n",
      "Topic: 7 Word: 0.004*\"las vegas\" + 0.003*\"prime rib\" + 0.002*\"feel like\" + 0.002*\"gluten free\" + 0.002*\"coffee shop\" + 0.001*\"looking forward\" + 0.001*\"looks like\" + 0.001*\"look forward\" + 0.001*\"don know\" + 0.001*\"pretty good\"\n",
      "Topic: 8 Word: 0.003*\"new york\" + 0.002*\"milk tea\" + 0.002*\"biz photos\" + 0.001*\"make sure\" + 0.001*\"feel like\" + 0.001*\"cheesecake factory\" + 0.001*\"grand lux\" + 0.001*\"dim sum\" + 0.001*\"felt like\" + 0.001*\"don like\"\n",
      "Topic: 9 Word: 0.012*\"las vegas\" + 0.008*\"great food\" + 0.007*\"great service\" + 0.007*\"food great\" + 0.006*\"service great\" + 0.005*\"love place\" + 0.005*\"highly recommend\" + 0.005*\"great place\" + 0.005*\"customer service\" + 0.004*\"food good\"\n"
     ]
    }
   ],
   "source": [
    "for idx, topic in lda_model_pos.print_topics(-1):\n",
    "    print('Topic: {} Word: {}'.format(idx, topic)) "
   ]
  },
  {
   "cell_type": "code",
   "execution_count": 31,
   "metadata": {},
   "outputs": [
    {
     "name": "stdout",
     "output_type": "stream",
     "text": [
      "-11.998905077121458\n"
     ]
    }
   ],
   "source": [
    "#Perplexity for Negative topics\n",
    "print(lda_model_pos.log_perplexity(pos_corpus))"
   ]
  },
  {
   "cell_type": "code",
   "execution_count": 32,
   "metadata": {},
   "outputs": [
    {
     "name": "stdout",
     "output_type": "stream",
     "text": [
      "-8.950070478229893\n"
     ]
    }
   ],
   "source": [
    "#Perplexity for Positive topics\n",
    "print(lda_model_neg.log_perplexity(neg_corpus))"
   ]
  }
 ],
 "metadata": {
  "kernelspec": {
   "display_name": "Python 3",
   "language": "python",
   "name": "python3"
  },
  "language_info": {
   "codemirror_mode": {
    "name": "ipython",
    "version": 3
   },
   "file_extension": ".py",
   "mimetype": "text/x-python",
   "name": "python",
   "nbconvert_exporter": "python",
   "pygments_lexer": "ipython3",
   "version": "3.6.4"
  }
 },
 "nbformat": 4,
 "nbformat_minor": 2
}
